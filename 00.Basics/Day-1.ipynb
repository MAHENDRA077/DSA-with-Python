{
 "cells": [
  {
   "cell_type": "markdown",
   "id": "fe93f205",
   "metadata": {},
   "source": [
    "## Question-1\n",
    "\n",
    "Write a Python function is_multiple(n, m) that checks if an integer n is a multiple of another integer m. The function should return True if n is a multiple of m (i.e., n = m × i for some integer i), and False otherwise.\n",
    "\n",
    "Sample Input: 5, 9\n",
    "\n",
    "Expected Output:False"
   ]
  },
  {
   "cell_type": "code",
   "execution_count": 7,
   "id": "818c2d67",
   "metadata": {},
   "outputs": [
    {
     "name": "stdout",
     "output_type": "stream",
     "text": [
      "Enter first number: 18\n",
      "Enter second number: 12\n",
      "18 is multiple of 12: False\n",
      "18 is multiple of 12: False\n"
     ]
    }
   ],
   "source": [
    "def is_multiple(n, m):\n",
    "    \"\"\"Check if n is a multiple of m.\n",
    "    \n",
    "    Args:\n",
    "        n: Integer to check if it's a multiple of m.\n",
    "        m: Integer to check if it's a divisor of n.\n",
    "        \n",
    "    Returns:\n",
    "        bool: True if n is a multiple of m, False otherwise.\n",
    "    \"\"\"\n",
    "    return n % m == 0\n",
    "\n",
    "\n",
    "# Alternative approach using lambda \n",
    "check_multiple = lambda n, m: n % m == 0\n",
    "\n",
    "if __name__ == \"__main__\":\n",
    "    n = int(input(\"Enter first number: \"))\n",
    "    m = int(input(\"Enter second number: \"))\n",
    "\n",
    "    print(f\"{n} is multiple of {m}: {is_multiple(n, m)}\")\n",
    "    print(f\"{n} is multiple of {m}: {check_multiple(n, m)}\")"
   ]
  },
  {
   "cell_type": "markdown",
   "id": "33290fc7",
   "metadata": {},
   "source": [
    "## Question-2\n",
    "\n",
    "Write a short Python function, is even(k), that takes an integer value and returns True if k is even, and False otherwise. However, your function cannot use the multiplication, modulo, or division operators.\n",
    "\n",
    "sample input: 8 \n",
    "\n",
    "sample ouput: True"
   ]
  },
  {
   "cell_type": "code",
   "execution_count": 9,
   "id": "86583306",
   "metadata": {},
   "outputs": [
    {
     "name": "stdout",
     "output_type": "stream",
     "text": [
      "Enter an integer: 110\n",
      "Is 110 even? True\n"
     ]
    }
   ],
   "source": [
    "## Hint-1:- In Binary Form of a number LSB is 0 if the number is even\n",
    "\n",
    "def is_even(k: int) -> bool:\n",
    "    \"\"\"Check if an integer is even without using *, /, or % operators.\n",
    "    \n",
    "    Args:\n",
    "        k (int): The integer to check.\n",
    "        \n",
    "    Returns:\n",
    "        bool: True if k is even, False otherwise.\n",
    "    \"\"\"\n",
    "    return (k & 1) == 0\n",
    "\n",
    "\n",
    "if __name__ == \"__main__\":\n",
    "    k = int(input(\"Enter an integer: \"))\n",
    "    print(f\"Is {k} even? {is_even(k)}\")"
   ]
  },
  {
   "cell_type": "markdown",
   "id": "758dc243",
   "metadata": {},
   "source": [
    "## Question-3\n",
    "\n",
    "Write a short Python function, minmax(data), that takes a sequence of one or more numbers, and returns the smallest and largest numbers, in the form of a tuple of length two. Do not use the built-in functions min or max in implementing your solution. \n",
    "\n",
    "sample input:- 889,1,2,4,6,800,1566\n",
    "\n",
    "sample output:- 1,1566"
   ]
  },
  {
   "cell_type": "code",
   "execution_count": 13,
   "id": "0e477df0",
   "metadata": {},
   "outputs": [
    {
     "name": "stdout",
     "output_type": "stream",
     "text": [
      "1  2 4 5 \n",
      "Smallest and largest numbers: (1, 5)\n"
     ]
    }
   ],
   "source": [
    "\n",
    "def minmax(data):\n",
    "    \"\"\"Find the smallest and largest numbers in a sequence without using min/max.\n",
    "    \n",
    "    Args:\n",
    "        data: A non-empty sequence of one or more numbers.\n",
    "        \n",
    "    Returns:\n",
    "        tuple: (smallest, largest) in the sequence.\n",
    "        \n",
    "    Raises:\n",
    "        ValueError: If the input sequence is empty.\n",
    "        \n",
    "    \"\"\"\n",
    "    if not data:\n",
    "        raise ValueError(\"Input sequence must not be empty.\")\n",
    "\n",
    "    smallest = largest = data[0]  # Initialize with the first element\n",
    "\n",
    "    for num in data[1:]:  # Iterate from the second element\n",
    "        if num < smallest:\n",
    "            smallest = num\n",
    "        elif num > largest:\n",
    "            largest = num\n",
    "\n",
    "    return smallest, largest\n",
    "\n",
    "\n",
    "if __name__ == \"__main__\":\n",
    "   \n",
    "    input_data = list(map(int, input().split()))\n",
    "    result = minmax(input_data)\n",
    "    print(f\"Smallest and largest numbers: {result}\")\n",
    "    "
   ]
  },
  {
   "cell_type": "markdown",
   "id": "e1a588f4",
   "metadata": {},
   "source": [
    "## Question-4 \n",
    "\n",
    "Write a short Python function that takes a positive integer n and returns the sum of the squares of all the positive integers smaller than n. \n",
    "\n",
    "sample input:- 6 \n",
    "\n",
    "sample ouptput:- 55"
   ]
  },
  {
   "cell_type": "code",
   "execution_count": 21,
   "id": "c0db03b6",
   "metadata": {},
   "outputs": [
    {
     "name": "stdout",
     "output_type": "stream",
     "text": [
      "Enter Number: 7\n",
      "sum of squares from 1 to 6 is 91\n",
      "91\n"
     ]
    }
   ],
   "source": [
    "def sum_of_squares(n: int) -> int:\n",
    "    \"\"\"Calculate the sum of squares of all positive integers smaller than n.\n",
    "    \n",
    "    Args:\n",
    "        n: A positive integer.\n",
    "        \n",
    "    Returns:\n",
    "        The sum of squares from 1² to (n-1)².\n",
    "        \n",
    "    Raises:\n",
    "        ValueError: If n is not a positive integer.\n",
    "    \"\"\"\n",
    "    \n",
    "    if n <= 0:\n",
    "        raise ValueError(\"Input must be a positive integer.\")\n",
    "        \n",
    "    # Actual formula: sum = n*(n+1)*(2n+1)//6.\n",
    "    # Here till n-1 only needed. So substitute n-1 in place of n.\n",
    "    # Using the mathematical formula: sum = (n-1) * n * (2n - 1) // 6\n",
    "    \n",
    "    return (n - 1) * n * (2 * n - 1) // 6\n",
    "\n",
    "\n",
    "if __name__ == \"__main__\":\n",
    "    \n",
    "    num = int(input(\"Enter Number: \"))\n",
    "  \n",
    "    print(f\"sum of squares from 1 to {num-1} is {sum_of_squares(num)}\")  \n",
    "    \n",
    "    ## One liner...\n",
    "    print(sum(ele**2 for ele in range(num)))"
   ]
  },
  {
   "cell_type": "markdown",
   "id": "87ff01e6",
   "metadata": {},
   "source": [
    "## Question-5\n",
    "\n",
    "Write a short Python function that takes a positive integer n and returns the sum of the squares of all the odd positive integers smaller than n.\n",
    "\n",
    "Sample input:- 5 \n",
    "\n",
    "Sample output:- 10 "
   ]
  },
  {
   "cell_type": "code",
   "execution_count": 45,
   "id": "d47db276",
   "metadata": {},
   "outputs": [
    {
     "name": "stdout",
     "output_type": "stream",
     "text": [
      "Enter a positive integer: 25\n",
      "Sum of odd squares from 1 to 24 is 2300\n",
      "2300\n"
     ]
    }
   ],
   "source": [
    "def sum_of_odd_squares(n):\n",
    "    \"\"\"Return the sum of squares of all odd positive integers smaller than n.\n",
    "    \n",
    "    Args:\n",
    "        n: A positive integer.\n",
    "        \n",
    "    Returns:\n",
    "        Sum of squares of odd integers from 1 to n-1.\n",
    "        \n",
    "    Raises:\n",
    "        ValueError: If n is not a positive integer.\n",
    "    \"\"\"\n",
    "    if not isinstance(n, int) or n <= 0:\n",
    "        raise ValueError(\"n must be a positive integer\")\n",
    "        \n",
    "    k = (n) // 2  # Count of odd numbers < n\n",
    "    return k*(2*k+1)*(2*k-1) // 3\n",
    "\n",
    "\n",
    "if __name__ == \"__main__\":\n",
    "    num = int(input(\"Enter a positive integer: \"))\n",
    "    print(f\"Sum of odd squares from 1 to {num-1} is {sum_of_odd_squares(num)}\")\n",
    "    \n",
    "    ## one liner:- \n",
    "    sum_of_odd_squares = lambda n: sum(k ** 2 for k in range(1, n, 2))\n",
    "    \n",
    "    print(sum_of_odd_squares(num))"
   ]
  },
 
 ],
 "metadata": {
  "kernelspec": {
   "display_name": "Python 3",
   "language": "python",
   "name": "python3"
  },
  "language_info": {
   "codemirror_mode": {
    "name": "ipython",
    "version": 3
   },
   "file_extension": ".py",
   "mimetype": "text/x-python",
   "name": "python",
   "nbconvert_exporter": "python",
   "pygments_lexer": "ipython3",
   "version": "3.8.8"
  }
 },
 "nbformat": 4,
 "nbformat_minor": 5
}
